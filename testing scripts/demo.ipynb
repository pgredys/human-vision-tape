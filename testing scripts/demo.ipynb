{
 "cells": [
  {
   "cell_type": "markdown",
   "metadata": {},
   "source": [
    "# Demo\n",
    "This jupyter notebook file contains demo version of base feature from main application.\n",
    "This notebook was created by **Przemysław Grędys** in purpose to pass an _Embedded Systems_ course on final year of Mechatronic Engineering on AGH University of Science and Technology.\n",
    "\n",
    "### Manin feature:\n",
    "- camera initializing\n",
    "- data acquisition\n",
    "- raw data saving\n",
    "- segmentation by distance\n",
    "- segmentation by color\n",
    "- saving segmented images"
   ]
  },
  {
   "cell_type": "code",
   "execution_count": 1,
   "metadata": {
    "ExecuteTime": {
     "end_time": "2023-06-07T09:07:50.466033200Z",
     "start_time": "2023-06-07T09:07:49.145953Z"
    }
   },
   "outputs": [],
   "source": [
    "import cv2\n",
    "import pyrealsense2 as rs\n",
    "import numpy as np\n",
    "from matplotlib import pyplot as plt"
   ]
  },
  {
   "cell_type": "markdown",
   "metadata": {},
   "source": [
    "## Initialize Camera Intel Realsense"
   ]
  },
  {
   "cell_type": "code",
   "execution_count": 2,
   "metadata": {
    "ExecuteTime": {
     "end_time": "2023-06-07T09:07:51.618259Z",
     "start_time": "2023-06-07T09:07:50.469723200Z"
    }
   },
   "outputs": [
    {
     "ename": "RuntimeError",
     "evalue": "No device connected",
     "output_type": "error",
     "traceback": [
      "\u001B[1;31m---------------------------------------------------------------------------\u001B[0m",
      "\u001B[1;31mRuntimeError\u001B[0m                              Traceback (most recent call last)",
      "Cell \u001B[1;32mIn[2], line 4\u001B[0m\n\u001B[0;32m      2\u001B[0m config \u001B[38;5;241m=\u001B[39m rs\u001B[38;5;241m.\u001B[39mconfig()\n\u001B[0;32m      3\u001B[0m pipeline_wrapper \u001B[38;5;241m=\u001B[39m rs\u001B[38;5;241m.\u001B[39mpipeline_wrapper(pipeline)\n\u001B[1;32m----> 4\u001B[0m pipeline_profile \u001B[38;5;241m=\u001B[39m \u001B[43mconfig\u001B[49m\u001B[38;5;241;43m.\u001B[39;49m\u001B[43mresolve\u001B[49m\u001B[43m(\u001B[49m\u001B[43mpipeline_wrapper\u001B[49m\u001B[43m)\u001B[49m\n\u001B[0;32m      6\u001B[0m device \u001B[38;5;241m=\u001B[39m pipeline_profile\u001B[38;5;241m.\u001B[39mget_device()\n\u001B[0;32m      7\u001B[0m device_product_line \u001B[38;5;241m=\u001B[39m \u001B[38;5;28mstr\u001B[39m(device\u001B[38;5;241m.\u001B[39mget_info(rs\u001B[38;5;241m.\u001B[39mcamera_info\u001B[38;5;241m.\u001B[39mproduct_line))\n",
      "\u001B[1;31mRuntimeError\u001B[0m: No device connected"
     ]
    }
   ],
   "source": [
    "pipeline = rs.pipeline()\n",
    "config = rs.config()\n",
    "pipeline_wrapper = rs.pipeline_wrapper(pipeline)\n",
    "pipeline_profile = config.resolve(pipeline_wrapper)\n",
    "\n",
    "device = pipeline_profile.get_device()\n",
    "device_product_line = str(device.get_info(rs.camera_info.product_line))\n",
    "print(\"Connected device:\",device.get_info(rs.camera_info.name),\"from\",device_product_line,\"series\")\n",
    "\n",
    "config.enable_stream(rs.stream.depth, 640, 480, rs.format.z16, 30)\n",
    "config.enable_stream(rs.stream.color, 960, 540, rs.format.bgr8, 30)\n",
    "\n",
    "profile = pipeline.start(config)\n",
    "depth_sensor = profile.get_device().first_depth_sensor()\n",
    "depth_scale = depth_sensor.get_depth_scale()\n",
    "print(\"Depth Scale is:\" , depth_scale)"
   ]
  },
  {
   "cell_type": "markdown",
   "metadata": {},
   "source": [
    "## Data acquisition"
   ]
  },
  {
   "cell_type": "code",
   "execution_count": null,
   "metadata": {},
   "outputs": [],
   "source": [
    "align_to = rs.stream.color\n",
    "align = rs.align(align_to)\n",
    "frames = pipeline.wait_for_frames()\n",
    "aligned_frames = align.process(frames)\n",
    "\n",
    "aligned_depth_frame = aligned_frames.get_depth_frame()\n",
    "color_frame = aligned_frames.get_color_frame()\n",
    "pipeline.stop()\n",
    "\n",
    "depth_image = np.asanyarray(aligned_depth_frame.get_data())\n",
    "color_image = np.asanyarray(color_frame.get_data())\n"
   ]
  },
  {
   "cell_type": "markdown",
   "metadata": {},
   "source": [
    "## Saving data"
   ]
  },
  {
   "cell_type": "code",
   "execution_count": null,
   "metadata": {},
   "outputs": [],
   "source": []
  },
  {
   "cell_type": "markdown",
   "metadata": {},
   "source": [
    "## Segmentation by distance"
   ]
  },
  {
   "cell_type": "code",
   "execution_count": null,
   "metadata": {},
   "outputs": [],
   "source": [
    "clipping_distance_in_meters = 2 #2 meter\n",
    "clipping_distance = clipping_distance_in_meters / depth_scale"
   ]
  },
  {
   "cell_type": "markdown",
   "metadata": {},
   "source": [
    "## Segmentation by color"
   ]
  },
  {
   "cell_type": "code",
   "execution_count": null,
   "metadata": {},
   "outputs": [],
   "source": []
  },
  {
   "cell_type": "markdown",
   "metadata": {},
   "source": [
    "## Combine segmentation"
   ]
  },
  {
   "cell_type": "code",
   "execution_count": null,
   "metadata": {},
   "outputs": [],
   "source": []
  },
  {
   "cell_type": "markdown",
   "metadata": {},
   "source": [
    "## Saving output"
   ]
  },
  {
   "cell_type": "code",
   "execution_count": null,
   "metadata": {},
   "outputs": [],
   "source": []
  }
 ],
 "metadata": {
  "kernelspec": {
   "display_name": "Python 3 (ipykernel)",
   "language": "python",
   "name": "python3"
  },
  "language_info": {
   "codemirror_mode": {
    "name": "ipython",
    "version": 3
   },
   "file_extension": ".py",
   "mimetype": "text/x-python",
   "name": "python",
   "nbconvert_exporter": "python",
   "pygments_lexer": "ipython3",
   "version": "3.9.13"
  }
 },
 "nbformat": 4,
 "nbformat_minor": 1
}
